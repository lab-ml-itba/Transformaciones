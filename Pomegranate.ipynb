{
 "cells": [
  {
   "cell_type": "markdown",
   "metadata": {},
   "source": [
    "# Pomegranate\n",
    "\n",
    "Una forma de definir un modelo con HMM utilizando [Pomegranate](http://pomegranate.readthedocs.io/en/latest/index.html). Se define la matriz de transición, las probabilidades de emisión para cada estado y las probabilidades desde el start state hacia los estados y desde los estados hacia el end state."
   ]
  },
  {
   "cell_type": "code",
   "execution_count": 109,
   "metadata": {
    "collapsed": true
   },
   "outputs": [],
   "source": [
    "from pomegranate import *\n",
    "dists = [NormalDistribution(5, 1), NormalDistribution(1, 7), NormalDistribution(8,2)] #Defino las distribuciones de probabilidades para cada estado\n",
    "trans_mat = numpy.array([[0.7, 0.3, 0.0],\n",
    "                             [0.0, 0.8, 0.2],\n",
    "                             [0.0, 0.0, 0.9]])\n",
    "starts = numpy.array([1.0, 0.0, 0.0])\n",
    "ends = numpy.array([0.0, 0.0, 0.1])\n",
    "model = HiddenMarkovModel.from_matrix(trans_mat, dists, starts, ends)"
   ]
  },
  {
   "cell_type": "markdown",
   "metadata": {},
   "source": [
    "Una forma de definir lo mismo que en el punto anterior, pero a partir de la topología. model.bake() cierra la definición de la topología."
   ]
  },
  {
   "cell_type": "code",
   "execution_count": 110,
   "metadata": {
    "collapsed": true
   },
   "outputs": [],
   "source": [
    "from pomegranate import *\n",
    "s1 = State(GeneralMixtureModel( [NormalDistribution(2.5, 1), NormalDistribution(8, 1)] ))\n",
    "s2 = State(GeneralMixtureModel( [NormalDistribution(5, 1), NormalDistribution(18, 1)] ))\n",
    "s3 = State(GeneralMixtureModel( [NormalDistribution(7, 1), NormalDistribution(4, 1)] ))\n",
    "model = HiddenMarkovModel()\n",
    "model.add_states(s1, s2, s3)\n",
    "model.add_transition(model.start, s1, 1.0)\n",
    "model.add_transition(s1, s1, 0.7)\n",
    "model.add_transition(s1, s2, 0.3)\n",
    "model.add_transition(s2, s2, 0.8)\n",
    "model.add_transition(s2, s3, 0.2)\n",
    "model.add_transition(s3, s3, 0.9)\n",
    "model.add_transition(s3, model.end, 0.1)\n",
    "model.bake()"
   ]
  },
  {
   "cell_type": "markdown",
   "metadata": {},
   "source": [
    "Generemos una realización utilizando el modelo de markov definido anteriormente:"
   ]
  },
  {
   "cell_type": "code",
   "execution_count": 111,
   "metadata": {
    "collapsed": true
   },
   "outputs": [],
   "source": [
    "train_set=[model.sample() for i in range(1000)]"
   ]
  },
  {
   "cell_type": "code",
   "execution_count": 112,
   "metadata": {
    "collapsed": true
   },
   "outputs": [],
   "source": [
    "dists = [GeneralMixtureModel( [NormalDistribution(1, 1), NormalDistribution(10, 1)] ), GeneralMixtureModel( [NormalDistribution(2, 1), NormalDistribution(20, 1)] ), GeneralMixtureModel( [NormalDistribution(1, 1), NormalDistribution(10, 1)] )]\n",
    "trans_mat = numpy.array([[0.3, 0.3, 0.4],\n",
    "                             [0.4, 0.3, 0.3],\n",
    "                             [0.3, 0.4, 0.4]])\n",
    "starts = numpy.array([0.3, 0.3, 0.4])\n",
    "ends = numpy.array([0.4, 0.3, 0.3])\n",
    "model_train = HiddenMarkovModel.from_matrix(trans_mat, dists, starts, ends)"
   ]
  },
  {
   "cell_type": "code",
   "execution_count": 113,
   "metadata": {},
   "outputs": [
    {
     "data": {
      "text/plain": [
       "array([[ 0.21428571,  0.21428571,  0.28571429,  0.        ,  0.28571429],\n",
       "       [ 0.30769231,  0.23076923,  0.23076923,  0.        ,  0.23076923],\n",
       "       [ 0.21428571,  0.28571429,  0.28571429,  0.        ,  0.21428571],\n",
       "       [ 0.3       ,  0.3       ,  0.4       ,  0.        ,  0.        ],\n",
       "       [ 0.        ,  0.        ,  0.        ,  0.        ,  0.        ]])"
      ]
     },
     "execution_count": 113,
     "metadata": {},
     "output_type": "execute_result"
    }
   ],
   "source": [
    "model_train.dense_transition_matrix()"
   ]
  },
  {
   "cell_type": "code",
   "execution_count": 114,
   "metadata": {},
   "outputs": [
    {
     "data": {
      "text/plain": [
       "61697.80478387327"
      ]
     },
     "execution_count": 114,
     "metadata": {},
     "output_type": "execute_result"
    }
   ],
   "source": [
    "model_train.fit(train_set)"
   ]
  },
  {
   "cell_type": "code",
   "execution_count": 117,
   "metadata": {},
   "outputs": [
    {
     "data": {
      "text/plain": [
       "array([[ 0.8,  0. ,  0.2,  0. ,  0. ],\n",
       "       [ 0.3,  0.7,  0. ,  0. ,  0. ],\n",
       "       [ 0. ,  0. ,  0.9,  0. ,  0.1],\n",
       "       [ 0. ,  1. ,  0. ,  0. ,  0. ],\n",
       "       [ 0. ,  0. ,  0. ,  0. ,  0. ]])"
      ]
     },
     "execution_count": 117,
     "metadata": {},
     "output_type": "execute_result"
    }
   ],
   "source": [
    "model.dense_transition_matrix()"
   ]
  },
  {
   "cell_type": "code",
   "execution_count": 118,
   "metadata": {},
   "outputs": [
    {
     "data": {
      "text/plain": [
       "array([[  9.00578404e-001,   8.98003317e-054,   4.80491665e-085,\n",
       "          0.00000000e+000,   9.94215961e-002],\n",
       "       [  1.98294543e-001,   8.01705457e-001,   1.89023821e-042,\n",
       "          0.00000000e+000,   8.52422568e-051],\n",
       "       [  3.00890132e-020,   3.07898837e-001,   6.92101163e-001,\n",
       "          0.00000000e+000,   2.08125827e-151],\n",
       "       [  4.84147264e-050,   3.01761061e-079,   1.00000000e+000,\n",
       "          0.00000000e+000,   0.00000000e+000],\n",
       "       [  0.00000000e+000,   0.00000000e+000,   0.00000000e+000,\n",
       "          0.00000000e+000,   0.00000000e+000]])"
      ]
     },
     "execution_count": 118,
     "metadata": {},
     "output_type": "execute_result"
    }
   ],
   "source": [
    "model_train.dense_transition_matrix()"
   ]
  },
  {
   "cell_type": "markdown",
   "metadata": {},
   "source": [
    "Comparemos la matriz obtenida con la matriz generadora del modelo"
   ]
  },
  {
   "cell_type": "markdown",
   "metadata": {},
   "source": [
    "Veamos los estados y los parámetros de emisión de los mismos:"
   ]
  },
  {
   "cell_type": "code",
   "execution_count": 89,
   "metadata": {},
   "outputs": [
    {
     "data": {
      "text/plain": [
       "[{\n",
       "     \"class\" : \"State\",\n",
       "     \"distribution\" : {\n",
       "         \"class\" : \"GeneralMixtureModel\",\n",
       "         \"distributions\" : [\n",
       "             {\n",
       "                 \"class\" : \"Distribution\",\n",
       "                 \"name\" : \"NormalDistribution\",\n",
       "                 \"parameters\" : [\n",
       "                     3.9762472955997605,\n",
       "                     0.9820714925666766\n",
       "                 ],\n",
       "                 \"frozen\" : false\n",
       "             },\n",
       "             {\n",
       "                 \"class\" : \"Distribution\",\n",
       "                 \"name\" : \"NormalDistribution\",\n",
       "                 \"parameters\" : [\n",
       "                     6.98256962937187,\n",
       "                     1.0099371895339044\n",
       "                 ],\n",
       "                 \"frozen\" : false\n",
       "             }\n",
       "         ],\n",
       "         \"weights\" : [\n",
       "             -0.7027809419083144,\n",
       "             -0.6836053436949263\n",
       "         ]\n",
       "     },\n",
       "     \"name\" : \"s0\",\n",
       "     \"weight\" : 1.0\n",
       " }, {\n",
       "     \"class\" : \"State\",\n",
       "     \"distribution\" : {\n",
       "         \"class\" : \"GeneralMixtureModel\",\n",
       "         \"distributions\" : [\n",
       "             {\n",
       "                 \"class\" : \"Distribution\",\n",
       "                 \"name\" : \"NormalDistribution\",\n",
       "                 \"parameters\" : [\n",
       "                     4.9686495990865405,\n",
       "                     1.0014364709635737\n",
       "                 ],\n",
       "                 \"frozen\" : false\n",
       "             },\n",
       "             {\n",
       "                 \"class\" : \"Distribution\",\n",
       "                 \"name\" : \"NormalDistribution\",\n",
       "                 \"parameters\" : [\n",
       "                     17.97325219854697,\n",
       "                     0.9994911813985796\n",
       "                 ],\n",
       "                 \"frozen\" : false\n",
       "             }\n",
       "         ],\n",
       "         \"weights\" : [\n",
       "             -0.6806425907326,\n",
       "             -0.7058101173067539\n",
       "         ]\n",
       "     },\n",
       "     \"name\" : \"s1\",\n",
       "     \"weight\" : 1.0\n",
       " }, {\n",
       "     \"class\" : \"State\",\n",
       "     \"distribution\" : {\n",
       "         \"class\" : \"GeneralMixtureModel\",\n",
       "         \"distributions\" : [\n",
       "             {\n",
       "                 \"class\" : \"Distribution\",\n",
       "                 \"name\" : \"NormalDistribution\",\n",
       "                 \"parameters\" : [\n",
       "                     2.4810396950602676,\n",
       "                     0.9963686544717725\n",
       "                 ],\n",
       "                 \"frozen\" : false\n",
       "             },\n",
       "             {\n",
       "                 \"class\" : \"Distribution\",\n",
       "                 \"name\" : \"NormalDistribution\",\n",
       "                 \"parameters\" : [\n",
       "                     7.976672292392105,\n",
       "                     0.9942482543876414\n",
       "                 ],\n",
       "                 \"frozen\" : false\n",
       "             }\n",
       "         ],\n",
       "         \"weights\" : [\n",
       "             -0.6895157167880341,\n",
       "             -0.6967918799402137\n",
       "         ]\n",
       "     },\n",
       "     \"name\" : \"s2\",\n",
       "     \"weight\" : 1.0\n",
       " }, {\n",
       "     \"class\" : \"State\",\n",
       "     \"distribution\" : null,\n",
       "     \"name\" : \"None-start\",\n",
       "     \"weight\" : 1.0\n",
       " }, {\n",
       "     \"class\" : \"State\",\n",
       "     \"distribution\" : null,\n",
       "     \"name\" : \"None-end\",\n",
       "     \"weight\" : 1.0\n",
       " }]"
      ]
     },
     "execution_count": 89,
     "metadata": {},
     "output_type": "execute_result"
    }
   ],
   "source": [
    "model_train.states"
   ]
  },
  {
   "cell_type": "code",
   "execution_count": 2,
   "metadata": {
    "collapsed": true
   },
   "outputs": [],
   "source": [
    "from minisom import MiniSom\n",
    "### Initialization and training ###\n",
    "X=15\n",
    "Y=15\n",
    "som = MiniSom(X,Y,4,sigma=2.5,learning_rate=0.5)"
   ]
  },
  {
   "cell_type": "code",
   "execution_count": 1,
   "metadata": {},
   "outputs": [
    {
     "ename": "NameError",
     "evalue": "name 'som' is not defined",
     "output_type": "error",
     "traceback": [
      "\u001b[0;31m---------------------------------------------------------------------------\u001b[0m",
      "\u001b[0;31mNameError\u001b[0m                                 Traceback (most recent call last)",
      "\u001b[0;32m<ipython-input-1-e98639889536>\u001b[0m in \u001b[0;36m<module>\u001b[0;34m()\u001b[0m\n\u001b[0;32m----> 1\u001b[0;31m \u001b[0msom\u001b[0m\u001b[0;34m.\u001b[0m\u001b[0mtrain_random\u001b[0m\u001b[0;34m(\u001b[0m\u001b[0mdata\u001b[0m\u001b[0;34m,\u001b[0m\u001b[0;36m10\u001b[0m\u001b[0;34m)\u001b[0m\u001b[0;34m\u001b[0m\u001b[0m\n\u001b[0m",
      "\u001b[0;31mNameError\u001b[0m: name 'som' is not defined"
     ]
    }
   ],
   "source": []
  },
  {
   "cell_type": "code",
   "execution_count": null,
   "metadata": {
    "collapsed": true
   },
   "outputs": [],
   "source": []
  }
 ],
 "metadata": {
  "kernelspec": {
   "display_name": "Python 3",
   "language": "python",
   "name": "python3"
  },
  "language_info": {
   "codemirror_mode": {
    "name": "ipython",
    "version": 3
   },
   "file_extension": ".py",
   "mimetype": "text/x-python",
   "name": "python",
   "nbconvert_exporter": "python",
   "pygments_lexer": "ipython3",
   "version": "3.6.1"
  }
 },
 "nbformat": 4,
 "nbformat_minor": 2
}
